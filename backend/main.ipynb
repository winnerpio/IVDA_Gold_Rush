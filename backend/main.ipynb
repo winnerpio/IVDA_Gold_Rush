{
 "cells": [
  {
   "cell_type": "code",
   "execution_count": 8,
   "metadata": {},
   "outputs": [],
   "source": [
    "import pandas as pd\n",
    "import numpy as np\n",
    "\n"
   ]
  },
  {
   "cell_type": "code",
   "execution_count": null,
   "metadata": {},
   "outputs": [],
   "source": [
    "# Reading in Data\n",
    "\n",
    "df_medal_tally = pd.read_csv('./data/Olympic_Medal_Tally_History.csv')\n",
    "df_athlete_event_details = pd.read_csv('./data/Olympic_Athlete_Event_details.csv')\n"
   ]
  },
  {
   "cell_type": "code",
   "execution_count": 26,
   "metadata": {},
   "outputs": [
    {
     "name": "stdout",
     "output_type": "stream",
     "text": [
      "(316834, 11)\n",
      "(14939, 11)\n",
      "(14676, 11)\n",
      "(15072, 11)\n"
     ]
    },
    {
     "name": "stderr",
     "output_type": "stream",
     "text": [
      "C:\\Users\\wojta\\AppData\\Local\\Temp\\ipykernel_15508\\3221180895.py:9: UserWarning: Boolean Series key will be reindexed to match DataFrame index.\n",
      "  display(df_filtered[df_filtered[\"pos\"] == \"3\"][df_filtered[\"medal\"] != \"Bronze\"])\n"
     ]
    },
    {
     "data": {
      "text/html": [
       "<div>\n",
       "<style scoped>\n",
       "    .dataframe tbody tr th:only-of-type {\n",
       "        vertical-align: middle;\n",
       "    }\n",
       "\n",
       "    .dataframe tbody tr th {\n",
       "        vertical-align: top;\n",
       "    }\n",
       "\n",
       "    .dataframe thead th {\n",
       "        text-align: right;\n",
       "    }\n",
       "</style>\n",
       "<table border=\"1\" class=\"dataframe\">\n",
       "  <thead>\n",
       "    <tr style=\"text-align: right;\">\n",
       "      <th></th>\n",
       "      <th>edition</th>\n",
       "      <th>edition_id</th>\n",
       "      <th>country_noc</th>\n",
       "      <th>sport</th>\n",
       "      <th>event</th>\n",
       "      <th>result_id</th>\n",
       "      <th>athlete</th>\n",
       "      <th>athlete_id</th>\n",
       "      <th>pos</th>\n",
       "      <th>medal</th>\n",
       "      <th>isTeamSport</th>\n",
       "    </tr>\n",
       "  </thead>\n",
       "  <tbody>\n",
       "    <tr>\n",
       "      <th>284348</th>\n",
       "      <td>1912 Summer Olympics</td>\n",
       "      <td>6</td>\n",
       "      <td>SWE</td>\n",
       "      <td>Athletics</td>\n",
       "      <td>Decathlon, Men</td>\n",
       "      <td>56970</td>\n",
       "      <td>Charles Lomberg</td>\n",
       "      <td>76283</td>\n",
       "      <td>3</td>\n",
       "      <td>Silver</td>\n",
       "      <td>False</td>\n",
       "    </tr>\n",
       "    <tr>\n",
       "      <th>296935</th>\n",
       "      <td>1912 Summer Olympics</td>\n",
       "      <td>6</td>\n",
       "      <td>USA</td>\n",
       "      <td>Athletics</td>\n",
       "      <td>Pentathlon, Men</td>\n",
       "      <td>57014</td>\n",
       "      <td>Jim Donahue</td>\n",
       "      <td>78331</td>\n",
       "      <td>3</td>\n",
       "      <td>Silver</td>\n",
       "      <td>False</td>\n",
       "    </tr>\n",
       "  </tbody>\n",
       "</table>\n",
       "</div>"
      ],
      "text/plain": [
       "                     edition  edition_id country_noc      sport  \\\n",
       "284348  1912 Summer Olympics           6         SWE  Athletics   \n",
       "296935  1912 Summer Olympics           6         USA  Athletics   \n",
       "\n",
       "                  event  result_id          athlete  athlete_id pos   medal  \\\n",
       "284348   Decathlon, Men      56970  Charles Lomberg       76283   3  Silver   \n",
       "296935  Pentathlon, Men      57014      Jim Donahue       78331   3  Silver   \n",
       "\n",
       "        isTeamSport  \n",
       "284348        False  \n",
       "296935        False  "
      ]
     },
     "metadata": {},
     "output_type": "display_data"
    }
   ],
   "source": [
    "print(df_athlete_event_details.shape)\n",
    "\n",
    "df_filtered = df_athlete_event_details[df_athlete_event_details[\"medal\"].notna()]\n",
    "\n",
    "print(df_filtered[df_filtered[\"medal\"] == \"Bronze\"].shape)\n",
    "print(df_filtered[df_filtered[\"medal\"] == \"Silver\"].shape)\n",
    "print(df_filtered[df_filtered[\"medal\"] == \"Gold\"].shape)\n",
    "\n",
    "display(df_filtered[df_filtered[\"pos\"] == \"3\"][df_filtered[\"medal\"] != \"Bronze\"])\n",
    "\n"
   ]
  }
 ],
 "metadata": {
  "kernelspec": {
   "display_name": "Python 3",
   "language": "python",
   "name": "python3"
  },
  "language_info": {
   "codemirror_mode": {
    "name": "ipython",
    "version": 3
   },
   "file_extension": ".py",
   "mimetype": "text/x-python",
   "name": "python",
   "nbconvert_exporter": "python",
   "pygments_lexer": "ipython3",
   "version": "3.12.5"
  }
 },
 "nbformat": 4,
 "nbformat_minor": 2
}
